{
 "cells": [
  {
   "cell_type": "code",
   "execution_count": 1,
   "metadata": {
    "ExecuteTime": {
     "end_time": "2019-04-20T07:33:51.106743Z",
     "start_time": "2019-04-20T07:33:49.511652Z"
    }
   },
   "outputs": [],
   "source": [
    "import pandas as pd\n",
    "import numpy as np\n",
    "import torch.nn as nn\n",
    "import torch.optim as optim\n",
    "import torch.nn.functional as F\n",
    "from torch.autograd import Variable\n",
    "from torch.utils.data import Dataset, DataLoader\n",
    "import torch"
   ]
  },
  {
   "cell_type": "code",
   "execution_count": 7,
   "metadata": {
    "ExecuteTime": {
     "end_time": "2019-04-20T07:45:20.723187Z",
     "start_time": "2019-04-20T07:45:20.341165Z"
    }
   },
   "outputs": [],
   "source": [
    "# df = pd.read_csv('poet.tang.csv')\n",
    "df = pd.read_csv('60tang.csv')\n",
    "df_dict = pd.read_csv('tang.dict.csv')"
   ]
  },
  {
   "cell_type": "code",
   "execution_count": 15,
   "metadata": {
    "ExecuteTime": {
     "end_time": "2019-04-20T07:46:56.613672Z",
     "start_time": "2019-04-20T07:46:55.355600Z"
    }
   },
   "outputs": [],
   "source": [
    "wordlist = []\n",
    "\n",
    "for s in df.poets:\n",
    "    s = s.replace(\"'\", \"\").replace(\", \", \"\").replace(\"[\", \"\").replace(\"]\", \"\")\n",
    "    s = s.replace(\"，\", \"\").replace(\"。\", \"\").replace(\"《\", \"\").replace(\"》\", \"\").replace(\"/\", \"\")\n",
    "    wordlist.extend(list(s))\n",
    "\n",
    "wordcnt = {}    \n",
    "word2id = {}\n",
    "id2word = {}\n",
    "\n",
    "i = 1\n",
    "for c in wordlist:\n",
    "    if c not in word2id:\n",
    "        word2id[c] = i\n",
    "        id2word[i] = c\n",
    "        wordcnt[c] = 1\n",
    "    else:\n",
    "        wordcnt[c] +=1\n",
    "    \n",
    "wordlist = list(set(wordlist))\n",
    "wordlist.sort()\n"
   ]
  },
  {
   "cell_type": "code",
   "execution_count": 17,
   "metadata": {
    "ExecuteTime": {
     "end_time": "2019-04-20T07:47:03.869087Z",
     "start_time": "2019-04-20T07:47:03.853086Z"
    }
   },
   "outputs": [],
   "source": [
    "word2id = {}\n",
    "id2word = {}\n",
    "\n",
    "for i in range(len(wordlist)):\n",
    "    word2id[wordlist[i]] = i + 1\n",
    "    id2word[i + 1] = wordlist[i]"
   ]
  },
  {
   "cell_type": "code",
   "execution_count": 13,
   "metadata": {
    "ExecuteTime": {
     "end_time": "2019-04-20T07:46:45.948062Z",
     "start_time": "2019-04-20T07:46:45.693047Z"
    }
   },
   "outputs": [],
   "source": [
    "def calclen(s):\n",
    "    s = s.replace(\"'\", \"\").replace(\", \", \"\").replace(\"[\", \"\").replace(\"]\", \"\")\n",
    "    s = s.replace(\"，\", \"\").replace(\"。\", \"\").replace(\"《\", \"\").replace(\"》\", \"\").replace(\"/\", \"\")\n",
    "    return len(s)\n",
    "\n",
    "df['lenth'] = df.poets.map(calclen)"
   ]
  },
  {
   "cell_type": "code",
   "execution_count": 19,
   "metadata": {
    "ExecuteTime": {
     "end_time": "2019-04-20T07:47:19.384974Z",
     "start_time": "2019-04-20T07:47:19.377974Z"
    }
   },
   "outputs": [
    {
     "data": {
      "text/plain": [
       "7131"
      ]
     },
     "execution_count": 19,
     "metadata": {},
     "output_type": "execute_result"
    }
   ],
   "source": [
    "len(wordlist)"
   ]
  },
  {
   "cell_type": "code",
   "execution_count": 119,
   "metadata": {
    "ExecuteTime": {
     "end_time": "2019-04-21T05:57:18.857243Z",
     "start_time": "2019-04-21T05:57:18.844242Z"
    },
    "code_folding": [
     2
    ]
   },
   "outputs": [],
   "source": [
    "MAX_LEN = 20\n",
    "\n",
    "class PoetDataset(Dataset):\n",
    "\n",
    "    def __init__(self, df):\n",
    "        self.df = df.copy()\n",
    "\n",
    "    def __len__(self):\n",
    "        return len(self.df)\n",
    "\n",
    "    def __getitem__(self, idx):\n",
    "        s = self.df.iloc[idx]['poets']\n",
    "        \n",
    "        s = s.replace(\"'\", \"\").replace(\", \", \"\").replace(\"[\", \"\").replace(\"]\", \"\")\n",
    "        s = s.replace(\"，\", \"\").replace(\"。\", \"\").replace(\"《\", \"\").replace(\"》\", \"\").replace(\"/\",\"\")\n",
    "        d = [word2id[w] for w in s]\n",
    "        if len(d) == 0:\n",
    "            print(idx, self.df.iloc[idx]['poets'])\n",
    "            \n",
    "        t = Variable(torch.from_numpy(np.array(d[1:]).copy()))\n",
    "        '''\n",
    "        data = np.zeros((len(t), MAX_LEN))\n",
    "        for i in range(len(t)):\n",
    "            data[i, MAX_LEN-(i+1):] = d[:i+1]\n",
    "        d = Variable(torch.from_numpy(data))\n",
    "        '''    \n",
    "        # d = Variable(torch.from_numpy(np.array(d[:len(d)-1])))\n",
    "        \n",
    "        data = []\n",
    "        \n",
    "        for i in range(len(t)):\n",
    "            data.append(d[:i+1][-20:])\n",
    "            \n",
    "        d = data\n",
    "        \n",
    "        # print(\"t\", t.size(), \"d\", d.size())\n",
    "        return {'text': d, 'label': t}\n",
    "    \n",
    "poet_dataset = PoetDataset(df)\n",
    "data_loader = DataLoader(poet_dataset, batch_size=1, shuffle=True, num_workers=0)"
   ]
  },
  {
   "cell_type": "code",
   "execution_count": 122,
   "metadata": {
    "ExecuteTime": {
     "end_time": "2019-04-21T05:57:40.966508Z",
     "start_time": "2019-04-21T05:57:40.838500Z"
    },
    "code_folding": [
     0
    ]
   },
   "outputs": [],
   "source": [
    "class PoetryModel(nn.Module):\n",
    "    \n",
    "    def __init__(self, vocab, hidden_size, n_cat, bs=1, nl=2):\n",
    "        super().__init__()\n",
    "        self.hidden_size = hidden_size\n",
    "        self.bs = bs\n",
    "        self.nl = nl\n",
    "        self.e = nn.Embedding(n_vocab, hidden_size)\n",
    "        self.lstm = nn.LSTM(hidden_size, hidden_size, nl)\n",
    "        self.fc2 = nn.Linear(hidden_size, n_cat)\n",
    "        self.softmax = nn.LogSoftmax(dim=-1)\n",
    "        \n",
    "    def forward(self, inp):\n",
    "        bs = len(inp)\n",
    "        # print(bs)\n",
    "        e_out = None\n",
    "        \n",
    "        x = inp\n",
    "        for j in range(len(x)):\n",
    "            x1 = Variable(torch.from_numpy(np.array(x[j]))).long().cuda()\n",
    "            eout = self.e(x1)\n",
    "            tmp = torch.zeros(MAX_LEN, self.hidden_size)\n",
    "            # print(tmp.size(), eout.size())\n",
    "            tmp[MAX_LEN-eout.size(0):, :] = eout\n",
    "\n",
    "            if e_out is None:\n",
    "                e_out = torch.cat([tmp])\n",
    "            else:\n",
    "                e_out = torch.cat([e_out, tmp])\n",
    "            # print('e_out ', e_out.size(), eout.size())\n",
    "                    \n",
    "        e_out = e_out.view(bs, MAX_LEN, self.hidden_size).cuda()            \n",
    "        # print('e_out ', e_out.size())\n",
    "\n",
    "        \n",
    "        h0 = c0 = Variable(e_out.data.new(*(self.nl, MAX_LEN, self.hidden_size)).zero_())\n",
    "        # print('h0 c0', h0.size(), c0.size())\n",
    "        rnn_o,_ = self.lstm(e_out, (h0, c0)) \n",
    "        # print('rnn_o', rnn_o.size())\n",
    "        rnn_o = rnn_o[:, -1, :]\n",
    "        # print('rnn_o', rnn_o.size())\n",
    "        fc = F.dropout(self.fc2(rnn_o), p=0.8)\n",
    "        # print('fc', fc.size())\n",
    "        out = self.softmax(fc)\n",
    "        # print('out', out.size())\n",
    "        return out\n",
    "\n",
    "n_vocab = len(wordlist)\n",
    "n_hidden = 256\n",
    "n_cat = n_vocab\n",
    "bs = 128\n",
    "\n",
    "model = PoetryModel(n_vocab, n_hidden, n_cat, bs=32)\n",
    "model = model.cuda()"
   ]
  },
  {
   "cell_type": "code",
   "execution_count": 114,
   "metadata": {
    "ExecuteTime": {
     "end_time": "2019-04-21T05:52:06.554380Z",
     "start_time": "2019-04-21T05:52:06.537379Z"
    },
    "code_folding": [
     3
    ]
   },
   "outputs": [],
   "source": [
    "loss_fn = nn.CrossEntropyLoss()\n",
    "optimizer = optim.Adam(model.parameters(), lr=1e-3)\n",
    "\n",
    "def fit(epoch, model, data_loader, phase='training', volatile=False):\n",
    "    if phase == 'training':\n",
    "        model.train()\n",
    "    if phase == 'validation':\n",
    "        model.eval()\n",
    "        volatile=True\n",
    "    running_loss = 0.0\n",
    "    running_correct = 0\n",
    "    for batch_idx, batch in enumerate(data_loader):\n",
    "        text, target = batch['text'], batch['label']\n",
    "        # text, target = text.long().cuda(), target.long().cuda()\n",
    "        target = target.long().cuda()\n",
    "        \n",
    "        if phase == 'training':\n",
    "            optimizer.zero_grad()\n",
    "        output = model(text)\n",
    "\n",
    "        target = target.view(-1)\n",
    "\n",
    "        loss = loss_fn(output, target)\n",
    "        \n",
    "        running_loss += loss.item()\n",
    "        \n",
    "        preds = output.data.max(dim=1, keepdim=True)[1]\n",
    "        \n",
    "        running_correct += preds.eq(target.data.view_as(preds)).cpu().sum()\n",
    "        if phase == 'training':\n",
    "            loss.backward()\n",
    "            optimizer.step()\n",
    "    \n",
    "    loss = running_loss/len(data_loader.dataset)\n",
    "    accuracy = 100. * running_correct/len(data_loader.dataset)\n",
    "    \n",
    "    print(f'{epoch} {phase} loss: {loss:.6f}, accuracy: {accuracy:.4f} ... {running_correct}/{len(data_loader.dataset)} - ')\n",
    "    \n",
    "    return loss, accuracy"
   ]
  },
  {
   "cell_type": "code",
   "execution_count": null,
   "metadata": {
    "ExecuteTime": {
     "start_time": "2019-04-21T05:57:44.887Z"
    },
    "scrolled": true
   },
   "outputs": [],
   "source": [
    "train_losses , train_accuracy = [],[]\n",
    "val_losses , val_accuracy = [],[]\n",
    "patient = 0\n",
    "best_loss = 7**7\n",
    "for epoch in range(1, 500):\n",
    "\n",
    "    epoch_loss, epoch_accuracy = fit(epoch, model, data_loader, phase='training')\n",
    "    # val_epoch_loss , val_epoch_accuracy = fit(epoch, model, data_loader, phase='validation')\n",
    "    train_losses.append(epoch_loss)\n",
    "    train_accuracy.append(epoch_accuracy)\n",
    "    val_losses.append(val_epoch_loss)\n",
    "    val_accuracy.append(val_epoch_accuracy)\n",
    "    \n",
    "    if epoch_loss < best_loss:\n",
    "        best_loss = epoch_loss\n",
    "        print('best_loss: ', best_loss)\n",
    "        patient = 0\n",
    "    else:\n",
    "        patient += 1\n",
    "        if patient > 5:\n",
    "            break\n",
    "        "
   ]
  },
  {
   "cell_type": "code",
   "execution_count": 216,
   "metadata": {
    "ExecuteTime": {
     "end_time": "2019-04-06T12:28:04.778313Z",
     "start_time": "2019-04-06T12:28:04.696308Z"
    }
   },
   "outputs": [],
   "source": [
    "torch.save(model.state_dict(), './model.pt')"
   ]
  },
  {
   "cell_type": "code",
   "execution_count": 53,
   "metadata": {
    "ExecuteTime": {
     "end_time": "2019-04-20T08:34:18.860239Z",
     "start_time": "2019-04-20T08:34:18.840238Z"
    }
   },
   "outputs": [
    {
     "name": "stdout",
     "output_type": "stream",
     "text": [
      "tensor([[-0.4402, -0.7088,  0.0667, -1.7056, -0.1849,  0.4807,  2.5024, -1.6402,\n",
      "          0.1469, -0.1713, -1.4745,  1.5302, -1.0410,  0.0351,  2.9185, -1.7908,\n",
      "          0.5428, -0.8813, -0.2174,  0.3891,  0.9730,  0.8021, -0.1282,  1.7987,\n",
      "         -1.3707, -0.1314,  0.2632, -0.5971,  1.3801, -0.0646,  1.6698, -0.2297,\n",
      "         -0.7425, -0.8525,  1.1486, -1.0557, -1.0240, -0.6615,  0.0601, -0.5494,\n",
      "         -0.4581, -1.5214, -0.9249,  0.3678, -0.2644,  1.4730,  1.6285,  0.4550,\n",
      "         -0.3198,  0.6505, -0.7824,  1.2003, -0.0090, -0.6278, -0.0644, -0.5774,\n",
      "          1.3314, -0.9830,  0.1102, -0.9747, -0.2678, -0.2209, -0.4732, -0.2898,\n",
      "          0.1829,  0.1117,  0.9074, -1.1729, -0.7261,  0.5295, -0.9335, -0.7991,\n",
      "         -0.6180, -0.8068,  0.5029,  0.1366, -0.7488, -0.6100,  0.8735, -0.6095,\n",
      "          0.3592,  1.3576,  0.4937, -1.5541, -1.0082, -0.4329,  0.9803,  0.1081,\n",
      "          0.2848,  0.4500, -0.7060, -1.2691, -0.9035, -1.9650,  0.3038,  0.6682,\n",
      "          1.6333,  0.3349, -0.6972,  0.7712, -1.0904,  1.4283, -1.4248,  1.1575,\n",
      "          0.7974,  1.0719, -0.7604, -0.0626,  0.7254,  0.5830, -0.2947, -1.8550,\n",
      "          0.9830, -1.4839,  1.0140, -0.6782,  0.4454, -0.8615,  1.8925,  1.3598,\n",
      "         -1.9292,  0.5561,  0.1529, -0.7483,  1.6348,  0.9819,  0.3873,  0.2677],\n",
      "        [ 0.1009,  0.2337, -0.0768, -1.1956,  0.5386,  0.0541, -0.0273, -0.0986,\n",
      "          0.5292, -0.9993,  1.4693, -0.6023, -0.2636, -0.8056, -0.8767,  1.8129,\n",
      "         -0.9726,  0.3363, -0.5680,  1.8280,  1.3364, -0.9162, -0.5187,  1.1758,\n",
      "          0.7772,  0.4467,  0.8645,  0.6062, -1.2867,  2.3264, -0.2873, -1.2942,\n",
      "          0.9529,  0.1288,  0.5568, -1.3581, -0.0839, -1.5386,  0.6803,  0.6549,\n",
      "         -2.5876, -0.1736,  1.8254, -1.8807,  0.8007,  0.0957,  0.1174,  0.3475,\n",
      "         -0.0906,  1.4621,  0.0862, -0.0798, -2.2029, -1.6457, -0.1200, -0.3612,\n",
      "          0.4944, -1.2489,  2.3989, -0.1779, -0.3223, -1.5253,  0.3045,  0.1649,\n",
      "         -0.2711, -2.5689,  2.1617, -1.6379, -0.2969,  0.5269,  0.6463, -0.8777,\n",
      "          1.0688,  1.6823, -0.1505, -1.3791, -0.3575,  0.6516, -0.2639, -0.7943,\n",
      "         -0.3708,  1.3650, -0.0073, -0.1166,  0.6717,  0.5863, -0.2995,  2.0988,\n",
      "          0.4782,  0.8292, -2.1580,  1.6363,  2.4288,  1.0728, -0.6392,  0.3659,\n",
      "          0.2478,  0.5014,  1.1885, -0.4975,  0.0266, -0.9491,  0.2236, -0.6006,\n",
      "          1.6198,  1.0723,  1.1009,  1.1377, -1.2314, -0.5288, -1.2643,  0.6727,\n",
      "         -0.8515,  0.5012, -2.2571, -0.5414, -0.1745,  1.3567,  0.5668, -0.2067,\n",
      "          0.2327,  1.6910, -1.8365,  0.3151, -0.2378,  0.0543,  2.0239,  0.6232]],\n",
      "       grad_fn=<EmbeddingBackward>) torch.Size([2, 128])\n"
     ]
    }
   ],
   "source": [
    "word_to_ix = {\"hello\": 0, \"world\": 1}\n",
    "embeds = nn.Embedding(1000, 128)  # 2 words in vocab, 5 dimensional embeddings\n",
    "lookup_tensor = torch.LongTensor([3,4])\n",
    "hello_embed = embeds(lookup_tensor)\n",
    "print(hello_embed, hello_embed.size())"
   ]
  },
  {
   "cell_type": "code",
   "execution_count": 56,
   "metadata": {
    "ExecuteTime": {
     "end_time": "2019-04-20T08:35:19.044681Z",
     "start_time": "2019-04-20T08:35:19.037681Z"
    }
   },
   "outputs": [
    {
     "data": {
      "text/plain": [
       "torch.Size([2])"
      ]
     },
     "execution_count": 56,
     "metadata": {},
     "output_type": "execute_result"
    }
   ],
   "source": [
    "lookup_tensor.size()"
   ]
  },
  {
   "cell_type": "code",
   "execution_count": null,
   "metadata": {},
   "outputs": [],
   "source": []
  }
 ],
 "metadata": {
  "kernelspec": {
   "display_name": "Python 3",
   "language": "python",
   "name": "python3"
  },
  "language_info": {
   "codemirror_mode": {
    "name": "ipython",
    "version": 3
   },
   "file_extension": ".py",
   "mimetype": "text/x-python",
   "name": "python",
   "nbconvert_exporter": "python",
   "pygments_lexer": "ipython3",
   "version": "3.6.5"
  },
  "varInspector": {
   "cols": {
    "lenName": 16,
    "lenType": 16,
    "lenVar": 40
   },
   "kernels_config": {
    "python": {
     "delete_cmd_postfix": "",
     "delete_cmd_prefix": "del ",
     "library": "var_list.py",
     "varRefreshCmd": "print(var_dic_list())"
    },
    "r": {
     "delete_cmd_postfix": ") ",
     "delete_cmd_prefix": "rm(",
     "library": "var_list.r",
     "varRefreshCmd": "cat(var_dic_list()) "
    }
   },
   "types_to_exclude": [
    "module",
    "function",
    "builtin_function_or_method",
    "instance",
    "_Feature"
   ],
   "window_display": true
  }
 },
 "nbformat": 4,
 "nbformat_minor": 2
}
