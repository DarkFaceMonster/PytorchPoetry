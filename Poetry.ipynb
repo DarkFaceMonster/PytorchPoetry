{
 "cells": [
  {
   "cell_type": "code",
   "execution_count": 58,
   "metadata": {
    "ExecuteTime": {
     "end_time": "2019-04-05T13:09:02.326079Z",
     "start_time": "2019-04-05T13:09:02.319079Z"
    }
   },
   "outputs": [],
   "source": [
    "import pandas as pd\n",
    "import numpy as np\n",
    "import torch.nn as nn\n",
    "import torch.optim as optim\n",
    "import torch.nn.functional as F\n",
    "from torch.autograd import Variable\n",
    "from torch.utils.data import Dataset, DataLoader\n",
    "import torch"
   ]
  },
  {
   "cell_type": "code",
   "execution_count": 169,
   "metadata": {
    "ExecuteTime": {
     "end_time": "2019-04-06T06:31:34.663869Z",
     "start_time": "2019-04-06T06:31:33.988830Z"
    }
   },
   "outputs": [],
   "source": [
    "df = pd.read_csv('poet.tang.csv')\n",
    "df_dict = pd.read_csv('tang.dict.csv')"
   ]
  },
  {
   "cell_type": "code",
   "execution_count": 27,
   "metadata": {
    "ExecuteTime": {
     "end_time": "2019-04-05T12:32:14.376792Z",
     "start_time": "2019-04-05T12:32:13.094719Z"
    }
   },
   "outputs": [],
   "source": [
    "wordlist = []\n",
    "\n",
    "for s in df.poets:\n",
    "    s = s.replace(\"'\", \"\").replace(\", \", \"\").replace(\"[\", \"\").replace(\"]\", \"\")\n",
    "    s = s.replace(\"，\", \"\").replace(\"。\", \"\")\n",
    "    wordlist.extend(list(s))\n",
    "\n",
    "wordcnt = {}    \n",
    "word2id = {}\n",
    "id2word = {}\n",
    "\n",
    "i = 1\n",
    "for c in wordlist:\n",
    "    if c not in word2id:\n",
    "        word2id[c] = i\n",
    "        id2word[i] = c\n",
    "        wordcnt[c] = 1\n",
    "    else:\n",
    "        wordcnt[c] +=1\n",
    "    \n",
    "wordlist = list(set(wordlist))\n",
    "wordlist.sort()\n"
   ]
  },
  {
   "cell_type": "code",
   "execution_count": 28,
   "metadata": {
    "ExecuteTime": {
     "end_time": "2019-04-05T12:32:39.903252Z",
     "start_time": "2019-04-05T12:32:39.887251Z"
    }
   },
   "outputs": [],
   "source": [
    "word2id = {}\n",
    "id2word = {}\n",
    "\n",
    "for i in range(len(wordlist)):\n",
    "    word2id[wordlist[i]] = i + 1\n",
    "    id2word[i + 1] = wordlist[i]"
   ]
  },
  {
   "cell_type": "code",
   "execution_count": 171,
   "metadata": {
    "ExecuteTime": {
     "end_time": "2019-04-06T06:32:02.040434Z",
     "start_time": "2019-04-06T06:32:01.721416Z"
    }
   },
   "outputs": [],
   "source": [
    "def calclen(s):\n",
    "    s = s.replace(\"'\", \"\").replace(\", \", \"\").replace(\"[\", \"\").replace(\"]\", \"\")\n",
    "    s = s.replace(\"，\", \"\").replace(\"。\", \"\")\n",
    "    return len(s)\n",
    "\n",
    "df['lenth'] = df.poets.map(calclen)"
   ]
  },
  {
   "cell_type": "code",
   "execution_count": 234,
   "metadata": {
    "ExecuteTime": {
     "end_time": "2019-04-07T04:22:02.542126Z",
     "start_time": "2019-04-07T04:22:02.532125Z"
    }
   },
   "outputs": [
    {
     "data": {
      "text/plain": [
       "['+',\n",
       " '-',\n",
       " '/',\n",
       " '0',\n",
       " '1',\n",
       " '2',\n",
       " '3',\n",
       " '4',\n",
       " '5',\n",
       " '6',\n",
       " '7',\n",
       " '8',\n",
       " '9',\n",
       " '=',\n",
       " '\\\\',\n",
       " 'a',\n",
       " 'e',\n",
       " 'u',\n",
       " '{',\n",
       " '|',\n",
       " '}',\n",
       " '·',\n",
       " '…',\n",
       " '□',\n",
       " '○',\n",
       " '●',\n",
       " '、',\n",
       " '〈',\n",
       " '〉',\n",
       " '《',\n",
       " '》',\n",
       " '「',\n",
       " '」',\n",
       " '『',\n",
       " '』',\n",
       " '〖',\n",
       " '〗',\n",
       " '一',\n",
       " '丁',\n",
       " '七',\n",
       " '丈',\n",
       " '三',\n",
       " '上',\n",
       " '下',\n",
       " '不',\n",
       " '与',\n",
       " '丏',\n",
       " '丐',\n",
       " '丑',\n",
       " '且']"
      ]
     },
     "execution_count": 234,
     "metadata": {},
     "output_type": "execute_result"
    }
   ],
   "source": [
    "wordlist[:50]"
   ]
  },
  {
   "cell_type": "code",
   "execution_count": 185,
   "metadata": {
    "ExecuteTime": {
     "end_time": "2019-04-06T06:37:27.929074Z",
     "start_time": "2019-04-06T06:37:27.896072Z"
    }
   },
   "outputs": [],
   "source": [
    "df = df[df.lenth > 19].copy()"
   ]
  },
  {
   "cell_type": "code",
   "execution_count": 219,
   "metadata": {
    "ExecuteTime": {
     "end_time": "2019-04-06T12:48:57.631972Z",
     "start_time": "2019-04-06T12:48:56.898930Z"
    }
   },
   "outputs": [],
   "source": [
    "df.to_csv('poet.tang.csv')"
   ]
  },
  {
   "cell_type": "code",
   "execution_count": 233,
   "metadata": {
    "ExecuteTime": {
     "end_time": "2019-04-07T04:21:33.625472Z",
     "start_time": "2019-04-07T04:21:33.613471Z"
    }
   },
   "outputs": [
    {
     "data": {
      "text/plain": [
       "authors                                                  溫庭筠\n",
       "poets      ['同伴，相喚。', '杏花稀，夢裏每愁依違。', '仙客一去燕已飛，不歸，淚痕空滿衣。',...\n",
       "strains    ['平仄，○仄。', '仄平平，仄仄仄平平平。', '平仄仄仄○仄平，仄平，仄平○仄○。',...\n",
       "titles                                                  河傳 三\n",
       "lenth                                                     55\n",
       "Name: 44235, dtype: object"
      ]
     },
     "execution_count": 233,
     "metadata": {},
     "output_type": "execute_result"
    }
   ],
   "source": [
    "# df.drop([48477], inplace=True)\n",
    "df.iloc[43459]"
   ]
  },
  {
   "cell_type": "code",
   "execution_count": 227,
   "metadata": {
    "ExecuteTime": {
     "end_time": "2019-04-06T13:59:10.908958Z",
     "start_time": "2019-04-06T13:59:10.887957Z"
    },
    "code_folding": []
   },
   "outputs": [],
   "source": [
    "class PoetDataset(Dataset):\n",
    "\n",
    "    def __init__(self, df):\n",
    "        self.df = df.copy()\n",
    "\n",
    "    def __len__(self):\n",
    "        return len(self.df)\n",
    "\n",
    "    def __getitem__(self, idx):\n",
    "        s = self.df.iloc[idx]['poets']\n",
    "        \n",
    "        s = s.replace(\"'\", \"\").replace(\", \", \"\").replace(\"[\", \"\").replace(\"]\", \"\")\n",
    "        s = s.replace(\"，\", \"\").replace(\"。\", \"\")\n",
    "        d = [word2id[w] for w in s]\n",
    "        if len(d) == 0:\n",
    "            print(idx, self.df.iloc[idx]['poets'])\n",
    "            \n",
    "        t = Variable(torch.from_numpy(np.array(d[1:]).copy()))\n",
    "        d = Variable(torch.from_numpy(np.array(d[:len(d)-1])))\n",
    "        \n",
    "        return {'text': d, 'label': t}\n",
    "    \n",
    "poet_dataset = PoetDataset(df)\n",
    "data_loader = DataLoader(poet_dataset, batch_size=1, shuffle=True, num_workers=0)"
   ]
  },
  {
   "cell_type": "code",
   "execution_count": 228,
   "metadata": {
    "ExecuteTime": {
     "end_time": "2019-04-06T13:59:12.386042Z",
     "start_time": "2019-04-06T13:59:12.216033Z"
    },
    "code_folding": [
     0
    ]
   },
   "outputs": [],
   "source": [
    "class PoetryModel(nn.Module):\n",
    "    \n",
    "    def __init__(self, vocab, hidden_size, n_cat, bs=1, nl=2):\n",
    "        super().__init__()\n",
    "        self.hidden_size = hidden_size\n",
    "        self.bs = bs\n",
    "        self.nl = nl\n",
    "        self.e = nn.Embedding(n_vocab, hidden_size)\n",
    "        self.lstm = nn.LSTM(hidden_size, hidden_size, nl)\n",
    "        self.fc2 = nn.Linear(hidden_size, n_cat)\n",
    "        self.softmax = nn.LogSoftmax(dim=-1)\n",
    "        \n",
    "    def forward(self, inp):\n",
    "        bs = inp.size(1)\n",
    "        # if bs != self.bs:\n",
    "        #     self.bs = bs\n",
    "            \n",
    "        # print(inp.size())\n",
    "        e_out = self.e(inp)\n",
    "        \n",
    "        # print('e_out ', e_out.size())\n",
    "        h0 = c0 = Variable(e_out.data.new(*(self.nl, bs, self.hidden_size)).zero_())\n",
    "        # print('h0 c0', h0.size(), c0.size())\n",
    "        rnn_o,_ = self.lstm(e_out, (h0, c0)) \n",
    "        # print('rnn_o', rnn_o.size())\n",
    "        rnn_o = rnn_o[-1]\n",
    "        # print('rnn_o', rnn_o.size())\n",
    "        fc = F.dropout(self.fc2(rnn_o), p=0.8)\n",
    "        # print('fc', fc.size())\n",
    "        out = self.softmax(fc)\n",
    "        # print('out', out.size())\n",
    "        return out\n",
    "\n",
    "n_vocab = len(wordlist)\n",
    "n_hidden = 256\n",
    "n_cat = n_vocab\n",
    "bs = 128\n",
    "\n",
    "model = PoetryModel(n_vocab, n_hidden, n_cat, bs=32)\n",
    "model = model.cuda()"
   ]
  },
  {
   "cell_type": "code",
   "execution_count": 231,
   "metadata": {
    "ExecuteTime": {
     "end_time": "2019-04-06T14:02:19.657754Z",
     "start_time": "2019-04-06T14:02:19.640753Z"
    },
    "code_folding": []
   },
   "outputs": [],
   "source": [
    "loss_fn = nn.CrossEntropyLoss()\n",
    "optimizer = optim.Adam(model.parameters(), lr=1e-3)\n",
    "\n",
    "def fit(epoch, model, data_loader, phase='training', volatile=False):\n",
    "    if phase == 'training':\n",
    "        model.train()\n",
    "    if phase == 'validation':\n",
    "        model.eval()\n",
    "        volatile=True\n",
    "    running_loss = 0.0\n",
    "    running_correct = 0\n",
    "    for batch_idx, batch in enumerate(data_loader):\n",
    "        text, target = batch['text'], batch['label']\n",
    "        text, target = text.long().cuda(), target.long().cuda()\n",
    "        \n",
    "        if phase == 'training':\n",
    "            optimizer.zero_grad()\n",
    "        output = model(text)\n",
    "\n",
    "        target = target.view(-1)\n",
    "\n",
    "        loss = loss_fn(output, target)\n",
    "        \n",
    "        running_loss += loss.item()\n",
    "        \n",
    "        preds = output.data.max(dim=1, keepdim=True)[1]\n",
    "        \n",
    "        running_correct += preds.eq(target.data.view_as(preds)).cpu().sum()\n",
    "        if phase == 'training':\n",
    "            loss.backward()\n",
    "            optimizer.step()\n",
    "    \n",
    "    loss = running_loss/len(data_loader.dataset)\n",
    "    accuracy = 100. * running_correct/len(data_loader.dataset)\n",
    "    \n",
    "    print(f'{epoch} {phase} loss: {loss:.6f}, accuracy: {accuracy:.4f} ... {running_correct}/{len(data_loader)} - ')\n",
    "    \n",
    "    return loss, accuracy"
   ]
  },
  {
   "cell_type": "code",
   "execution_count": 232,
   "metadata": {
    "ExecuteTime": {
     "end_time": "2019-04-06T20:28:20.804495Z",
     "start_time": "2019-04-06T14:02:23.677984Z"
    },
    "scrolled": true
   },
   "outputs": [
    {
     "name": "stdout",
     "output_type": "stream",
     "text": [
      "1 training loss: 6.489144, accuracy: 329.0000 ... 184566/56094 - \n",
      "1 validation loss: 6.208618, accuracy: 381.0000 ... 213853/56094 - \n",
      "2 training loss: 6.237712, accuracy: 378.0000 ... 212160/56094 - \n",
      "2 validation loss: 6.115645, accuracy: 385.0000 ... 216385/56094 - \n",
      "3 training loss: 6.180701, accuracy: 383.0000 ... 215129/56094 - \n",
      "3 validation loss: 6.077962, accuracy: 389.0000 ... 218559/56094 - \n",
      "4 training loss: 6.153486, accuracy: 386.0000 ... 216616/56094 - \n",
      "4 validation loss: 6.057441, accuracy: 397.0000 ... 222896/56094 - \n",
      "5 training loss: 6.138474, accuracy: 386.0000 ... 217081/56094 - \n",
      "5 validation loss: 6.045647, accuracy: 396.0000 ... 222139/56094 - \n",
      "6 training loss: 6.129436, accuracy: 388.0000 ... 217858/56094 - \n",
      "6 validation loss: 6.037052, accuracy: 393.0000 ... 220512/56094 - \n",
      "7 training loss: 6.123256, accuracy: 389.0000 ... 218424/56094 - \n",
      "7 validation loss: 6.032784, accuracy: 391.0000 ... 219814/56094 - \n",
      "8 training loss: 6.121167, accuracy: 389.0000 ... 218273/56094 - \n",
      "8 validation loss: 6.030753, accuracy: 398.0000 ... 223283/56094 - \n",
      "9 training loss: 6.119191, accuracy: 390.0000 ... 218773/56094 - \n",
      "9 validation loss: 6.030715, accuracy: 400.0000 ... 224829/56094 - \n",
      "10 training loss: 6.118605, accuracy: 390.0000 ... 219274/56094 - \n",
      "10 validation loss: 6.031640, accuracy: 397.0000 ... 223054/56094 - \n",
      "11 training loss: 6.119391, accuracy: 390.0000 ... 219009/56094 - \n",
      "11 validation loss: 6.031120, accuracy: 402.0000 ... 225955/56094 - \n"
     ]
    }
   ],
   "source": [
    "train_losses , train_accuracy = [],[]\n",
    "val_losses , val_accuracy = [],[]\n",
    "\n",
    "best_loss = 7**7\n",
    "for epoch in range(1, 500):\n",
    "\n",
    "    epoch_loss, epoch_accuracy = fit(epoch, model, data_loader, phase='training')\n",
    "    val_epoch_loss , val_epoch_accuracy = fit(epoch, model, data_loader, phase='validation')\n",
    "    train_losses.append(epoch_loss)\n",
    "    train_accuracy.append(epoch_accuracy)\n",
    "    val_losses.append(val_epoch_loss)\n",
    "    val_accuracy.append(val_epoch_accuracy)\n",
    "    \n",
    "    if epoch_loss < best_loss:\n",
    "        best_loss = epoch_loss\n",
    "    else:\n",
    "        break\n",
    "        "
   ]
  },
  {
   "cell_type": "code",
   "execution_count": 216,
   "metadata": {
    "ExecuteTime": {
     "end_time": "2019-04-06T12:28:04.778313Z",
     "start_time": "2019-04-06T12:28:04.696308Z"
    }
   },
   "outputs": [],
   "source": [
    "torch.save(model.state_dict(), './model.pt')"
   ]
  }
 ],
 "metadata": {
  "kernelspec": {
   "display_name": "Python 3",
   "language": "python",
   "name": "python3"
  },
  "language_info": {
   "codemirror_mode": {
    "name": "ipython",
    "version": 3
   },
   "file_extension": ".py",
   "mimetype": "text/x-python",
   "name": "python",
   "nbconvert_exporter": "python",
   "pygments_lexer": "ipython3",
   "version": "3.6.5"
  },
  "varInspector": {
   "cols": {
    "lenName": 16,
    "lenType": 16,
    "lenVar": 40
   },
   "kernels_config": {
    "python": {
     "delete_cmd_postfix": "",
     "delete_cmd_prefix": "del ",
     "library": "var_list.py",
     "varRefreshCmd": "print(var_dic_list())"
    },
    "r": {
     "delete_cmd_postfix": ") ",
     "delete_cmd_prefix": "rm(",
     "library": "var_list.r",
     "varRefreshCmd": "cat(var_dic_list()) "
    }
   },
   "types_to_exclude": [
    "module",
    "function",
    "builtin_function_or_method",
    "instance",
    "_Feature"
   ],
   "window_display": true
  }
 },
 "nbformat": 4,
 "nbformat_minor": 2
}
